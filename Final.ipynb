{
 "cells": [
  {
   "cell_type": "markdown",
   "metadata": {},
   "source": [
    "https://schiariello.github.io/"
   ]
  },
  {
   "cell_type": "markdown",
   "metadata": {},
   "source": [
    "# Final Tutorial: Cervical Cancer on an Individual & State-wide Level"
   ]
  },
  {
   "cell_type": "markdown",
   "metadata": {},
   "source": [
    "## Analysis by Sarah Chiariello"
   ]
  },
  {
   "cell_type": "markdown",
   "metadata": {},
   "source": [
    "### Identifying the Datasets\n",
    "\n",
    "Cervical Cancer Risk Classification:\n",
    "\n",
    "- Retrieved from: https://www.kaggle.com/loveall/cervical-cancer-risk-classification\n",
    "\n",
    "- More Information found at: https://ieeexplore.ieee.org/document/8070120\n",
    "\n",
    "\n",
    "United States Department of Agricultre Economic Research Service:\n",
    "https://data.ers.usda.gov/reports.aspx?ID=17826\n",
    "\n",
    "\n",
    "CDC U.S. Cancer Cases: \n",
    "https://gis.cdc.gov/Cancer/USCS/DataViz.html\n",
    "\n",
    "\n",
    "U.S. News Health Care Rankings:\n",
    "https://www.usnews.com/news/best-states/rankings/health-care\n",
    "\n",
    "\n",
    "\n",
    "### Project Description & Plan\n",
    "\n",
    "Forty years ago, cervical cancer was the leading causes of cancer death for women in the United States. As one of the most preventable types of cancer, this statistic left much to be desired from the prior healthcare infrastructure. Due to early detection of abnormal cells within the cervix and more regularly scheduled Pap test screenings, The United States was able to control the mortality rates as a result of cervical cancer. Sadly, this cannot be said for developing healthcare systems around the world. Many women worldwide do not have the access to healthcare that would enable an early detection of cervical cancer by  screening for human papilloma virus (HPV) cell types in their youth, which can increase their risk of cervical cancer in the future. Women with abnormal cells at a young age who do not get regular examinations are at a higher risk of localized cancer, which can lead to invasive cancer by the age of 50. While cervical cancer rates have declined in the US, death rates for African American women are twice as high as Caucasian women, while rates of invasive cervical cancer in Hispanic women are more than twice those of Caucasian women. These racial disparities may be results of less advanced healthcare systems worldwide, socioeconomic patternns, and low screening rates due to high poverty levels. These may also be the result of a lack of access to transportation, health insurance, or language translators.\n",
    "\n",
    "Cervical cancer involves multiple risk factors and must be diagnosed by a healthcare professional after a biopsy or other type of examination. An increased sexual activity can introduce the risk of contracting HPV, the main risk factor for cervical cancer. HPV is a sexually transmitted infection which results in abnormal cell growth within the cervix, regularly screened in a Pap test. Family history of cervical cancer can also be a risk factor, along with the use of oral hormonal contraception pills. Other risk factors include, but are not limited to, smoking, past STDs, number of children, and history of diagnosed cervical cancer.\n",
    "\n",
    "The purpose of this project is to examine data regarding individual cervical cancer risk factors and, hopefully, make meaningful insights about associations between certain risk factors and poverty levels, healthcare structures, or current racial disparities. Individual level analyses will be evaluated alongside state-level analyses to decipher a full picture idea of cervical cancer in women in America.\n",
    "\n",
    "\n",
    "### Related Questions & Hypotheses\n",
    "\n",
    "With this project, I hope to analyze cervical cancer risk factors on an individual level.\n",
    "- Are there any factors that seem to lead  to malignancies at a higher rate?\n",
    "- What do the number of sexual partners or the age of first sexual intercourse mean and how does their weight affect the possibility of getting cancer due to the spread of HPV?\n",
    "- Hormonal contraceptives or smoking are believed to increase risk for cervical cancer if used for over a certain number of years. Is this true?\n",
    "\n",
    "I hypothesize that I will be able to find trends in the following:\n",
    "- Higher number of sexual partners, increased risk of cervical cancer\n",
    "- Those who take hormonal contraceptives for longer, increased risk of cervical cancer\n",
    "- Those who have contracted STDs, specifically HPV, increased risk of cervical cancer\n",
    "\n",
    "I also hope to relate cervical cancer data per state to other external factors that may be an indirect cause of increased cancer rates. I hope to create insights regarding the following:\n",
    "- Better the healthcare infrastructure in a state, lower incidence of cervical cancer\n",
    "- Higher rates of poverty in a state may lead to inaccessible healthcare and inability to go for annual Pap smear office visits\n",
    "- How could access to a clinic, accessibility of screening tests, regularity of visits to a clinic in underdeveloped neighborhoods, transportation time to the nearest clinic as it relates to risk of cervical cancer, neighborhood poverty levels, ability to make a follow up appointment, etc. lead to increased chnces of developing cervical cancer/inability to treat it?"
   ]
  },
  {
   "cell_type": "markdown",
   "metadata": {},
   "source": [
    "### Initial Data Extraction, Transform, Load & Tidy: Cervical Cancer Risk Classification"
   ]
  },
  {
   "cell_type": "code",
   "execution_count": 84,
   "metadata": {},
   "outputs": [],
   "source": [
    "import pandas as pd\n",
    "import numpy as np\n",
    "import seaborn as sns\n",
    "import matplotlib\n",
    "import matplotlib.pyplot as plt\n",
    "\n",
    "df = pd.read_csv(r\"..\\schiariello.github.io\\project_data\\cervical_raw.csv\")"
   ]
  },
  {
   "cell_type": "code",
   "execution_count": 85,
   "metadata": {},
   "outputs": [
    {
     "data": {
      "text/html": [
       "<div>\n",
       "<style scoped>\n",
       "    .dataframe tbody tr th:only-of-type {\n",
       "        vertical-align: middle;\n",
       "    }\n",
       "\n",
       "    .dataframe tbody tr th {\n",
       "        vertical-align: top;\n",
       "    }\n",
       "\n",
       "    .dataframe thead th {\n",
       "        text-align: right;\n",
       "    }\n",
       "</style>\n",
       "<table border=\"1\" class=\"dataframe\">\n",
       "  <thead>\n",
       "    <tr style=\"text-align: right;\">\n",
       "      <th></th>\n",
       "      <th>Age</th>\n",
       "      <th>Number of sexual partners</th>\n",
       "      <th>First sexual intercourse</th>\n",
       "      <th>Num of pregnancies</th>\n",
       "      <th>Smokes</th>\n",
       "      <th>Smokes (years)</th>\n",
       "      <th>Smokes (packs/year)</th>\n",
       "      <th>Hormonal Contraceptives</th>\n",
       "      <th>Hormonal Contraceptives (years)</th>\n",
       "      <th>IUD</th>\n",
       "      <th>...</th>\n",
       "      <th>STDs: Time since first diagnosis</th>\n",
       "      <th>STDs: Time since last diagnosis</th>\n",
       "      <th>Dx:Cancer</th>\n",
       "      <th>Dx:CIN (Cervical Intraepithelial Neoplasia)</th>\n",
       "      <th>Dx:HPV</th>\n",
       "      <th>Dx</th>\n",
       "      <th>Hinselmann</th>\n",
       "      <th>Schiller</th>\n",
       "      <th>Citology</th>\n",
       "      <th>Biopsy</th>\n",
       "    </tr>\n",
       "  </thead>\n",
       "  <tbody>\n",
       "    <tr>\n",
       "      <th>0</th>\n",
       "      <td>18</td>\n",
       "      <td>4</td>\n",
       "      <td>15</td>\n",
       "      <td>1</td>\n",
       "      <td>0</td>\n",
       "      <td>0</td>\n",
       "      <td>0</td>\n",
       "      <td>0</td>\n",
       "      <td>0</td>\n",
       "      <td>0</td>\n",
       "      <td>...</td>\n",
       "      <td>NaN</td>\n",
       "      <td>NaN</td>\n",
       "      <td>0</td>\n",
       "      <td>0</td>\n",
       "      <td>0</td>\n",
       "      <td>0</td>\n",
       "      <td>0</td>\n",
       "      <td>0</td>\n",
       "      <td>0</td>\n",
       "      <td>0</td>\n",
       "    </tr>\n",
       "    <tr>\n",
       "      <th>1</th>\n",
       "      <td>15</td>\n",
       "      <td>1</td>\n",
       "      <td>14</td>\n",
       "      <td>1</td>\n",
       "      <td>0</td>\n",
       "      <td>0</td>\n",
       "      <td>0</td>\n",
       "      <td>0</td>\n",
       "      <td>0</td>\n",
       "      <td>0</td>\n",
       "      <td>...</td>\n",
       "      <td>NaN</td>\n",
       "      <td>NaN</td>\n",
       "      <td>0</td>\n",
       "      <td>0</td>\n",
       "      <td>0</td>\n",
       "      <td>0</td>\n",
       "      <td>0</td>\n",
       "      <td>0</td>\n",
       "      <td>0</td>\n",
       "      <td>0</td>\n",
       "    </tr>\n",
       "    <tr>\n",
       "      <th>2</th>\n",
       "      <td>34</td>\n",
       "      <td>1</td>\n",
       "      <td>NaN</td>\n",
       "      <td>1</td>\n",
       "      <td>0</td>\n",
       "      <td>0</td>\n",
       "      <td>0</td>\n",
       "      <td>0</td>\n",
       "      <td>0</td>\n",
       "      <td>0</td>\n",
       "      <td>...</td>\n",
       "      <td>NaN</td>\n",
       "      <td>NaN</td>\n",
       "      <td>0</td>\n",
       "      <td>0</td>\n",
       "      <td>0</td>\n",
       "      <td>0</td>\n",
       "      <td>0</td>\n",
       "      <td>0</td>\n",
       "      <td>0</td>\n",
       "      <td>0</td>\n",
       "    </tr>\n",
       "    <tr>\n",
       "      <th>3</th>\n",
       "      <td>52</td>\n",
       "      <td>5</td>\n",
       "      <td>16</td>\n",
       "      <td>4</td>\n",
       "      <td>1</td>\n",
       "      <td>37</td>\n",
       "      <td>37</td>\n",
       "      <td>1</td>\n",
       "      <td>3</td>\n",
       "      <td>0</td>\n",
       "      <td>...</td>\n",
       "      <td>NaN</td>\n",
       "      <td>NaN</td>\n",
       "      <td>1</td>\n",
       "      <td>0</td>\n",
       "      <td>1</td>\n",
       "      <td>0</td>\n",
       "      <td>0</td>\n",
       "      <td>0</td>\n",
       "      <td>0</td>\n",
       "      <td>0</td>\n",
       "    </tr>\n",
       "    <tr>\n",
       "      <th>4</th>\n",
       "      <td>46</td>\n",
       "      <td>3</td>\n",
       "      <td>21</td>\n",
       "      <td>4</td>\n",
       "      <td>0</td>\n",
       "      <td>0</td>\n",
       "      <td>0</td>\n",
       "      <td>1</td>\n",
       "      <td>15</td>\n",
       "      <td>0</td>\n",
       "      <td>...</td>\n",
       "      <td>NaN</td>\n",
       "      <td>NaN</td>\n",
       "      <td>0</td>\n",
       "      <td>0</td>\n",
       "      <td>0</td>\n",
       "      <td>0</td>\n",
       "      <td>0</td>\n",
       "      <td>0</td>\n",
       "      <td>0</td>\n",
       "      <td>0</td>\n",
       "    </tr>\n",
       "    <tr>\n",
       "      <th>...</th>\n",
       "      <td>...</td>\n",
       "      <td>...</td>\n",
       "      <td>...</td>\n",
       "      <td>...</td>\n",
       "      <td>...</td>\n",
       "      <td>...</td>\n",
       "      <td>...</td>\n",
       "      <td>...</td>\n",
       "      <td>...</td>\n",
       "      <td>...</td>\n",
       "      <td>...</td>\n",
       "      <td>...</td>\n",
       "      <td>...</td>\n",
       "      <td>...</td>\n",
       "      <td>...</td>\n",
       "      <td>...</td>\n",
       "      <td>...</td>\n",
       "      <td>...</td>\n",
       "      <td>...</td>\n",
       "      <td>...</td>\n",
       "      <td>...</td>\n",
       "    </tr>\n",
       "    <tr>\n",
       "      <th>853</th>\n",
       "      <td>34</td>\n",
       "      <td>3</td>\n",
       "      <td>18</td>\n",
       "      <td>0</td>\n",
       "      <td>0</td>\n",
       "      <td>0</td>\n",
       "      <td>0</td>\n",
       "      <td>0</td>\n",
       "      <td>0</td>\n",
       "      <td>0</td>\n",
       "      <td>...</td>\n",
       "      <td>NaN</td>\n",
       "      <td>NaN</td>\n",
       "      <td>0</td>\n",
       "      <td>0</td>\n",
       "      <td>0</td>\n",
       "      <td>0</td>\n",
       "      <td>0</td>\n",
       "      <td>0</td>\n",
       "      <td>0</td>\n",
       "      <td>0</td>\n",
       "    </tr>\n",
       "    <tr>\n",
       "      <th>854</th>\n",
       "      <td>32</td>\n",
       "      <td>2</td>\n",
       "      <td>19</td>\n",
       "      <td>1</td>\n",
       "      <td>0</td>\n",
       "      <td>0</td>\n",
       "      <td>0</td>\n",
       "      <td>1</td>\n",
       "      <td>8</td>\n",
       "      <td>0</td>\n",
       "      <td>...</td>\n",
       "      <td>NaN</td>\n",
       "      <td>NaN</td>\n",
       "      <td>0</td>\n",
       "      <td>0</td>\n",
       "      <td>0</td>\n",
       "      <td>0</td>\n",
       "      <td>0</td>\n",
       "      <td>0</td>\n",
       "      <td>0</td>\n",
       "      <td>0</td>\n",
       "    </tr>\n",
       "    <tr>\n",
       "      <th>855</th>\n",
       "      <td>25</td>\n",
       "      <td>2</td>\n",
       "      <td>17</td>\n",
       "      <td>0</td>\n",
       "      <td>0</td>\n",
       "      <td>0</td>\n",
       "      <td>0</td>\n",
       "      <td>1</td>\n",
       "      <td>0.08</td>\n",
       "      <td>0</td>\n",
       "      <td>...</td>\n",
       "      <td>NaN</td>\n",
       "      <td>NaN</td>\n",
       "      <td>0</td>\n",
       "      <td>0</td>\n",
       "      <td>0</td>\n",
       "      <td>0</td>\n",
       "      <td>0</td>\n",
       "      <td>0</td>\n",
       "      <td>1</td>\n",
       "      <td>0</td>\n",
       "    </tr>\n",
       "    <tr>\n",
       "      <th>856</th>\n",
       "      <td>33</td>\n",
       "      <td>2</td>\n",
       "      <td>24</td>\n",
       "      <td>2</td>\n",
       "      <td>0</td>\n",
       "      <td>0</td>\n",
       "      <td>0</td>\n",
       "      <td>1</td>\n",
       "      <td>0.08</td>\n",
       "      <td>0</td>\n",
       "      <td>...</td>\n",
       "      <td>NaN</td>\n",
       "      <td>NaN</td>\n",
       "      <td>0</td>\n",
       "      <td>0</td>\n",
       "      <td>0</td>\n",
       "      <td>0</td>\n",
       "      <td>0</td>\n",
       "      <td>0</td>\n",
       "      <td>0</td>\n",
       "      <td>0</td>\n",
       "    </tr>\n",
       "    <tr>\n",
       "      <th>857</th>\n",
       "      <td>29</td>\n",
       "      <td>2</td>\n",
       "      <td>20</td>\n",
       "      <td>1</td>\n",
       "      <td>0</td>\n",
       "      <td>0</td>\n",
       "      <td>0</td>\n",
       "      <td>1</td>\n",
       "      <td>0.5</td>\n",
       "      <td>0</td>\n",
       "      <td>...</td>\n",
       "      <td>NaN</td>\n",
       "      <td>NaN</td>\n",
       "      <td>0</td>\n",
       "      <td>0</td>\n",
       "      <td>0</td>\n",
       "      <td>0</td>\n",
       "      <td>0</td>\n",
       "      <td>0</td>\n",
       "      <td>0</td>\n",
       "      <td>0</td>\n",
       "    </tr>\n",
       "  </tbody>\n",
       "</table>\n",
       "<p>858 rows × 36 columns</p>\n",
       "</div>"
      ],
      "text/plain": [
       "     Age Number of sexual partners First sexual intercourse  \\\n",
       "0     18                         4                       15   \n",
       "1     15                         1                       14   \n",
       "2     34                         1                      NaN   \n",
       "3     52                         5                       16   \n",
       "4     46                         3                       21   \n",
       "..   ...                       ...                      ...   \n",
       "853   34                         3                       18   \n",
       "854   32                         2                       19   \n",
       "855   25                         2                       17   \n",
       "856   33                         2                       24   \n",
       "857   29                         2                       20   \n",
       "\n",
       "    Num of pregnancies Smokes Smokes (years) Smokes (packs/year)  \\\n",
       "0                    1      0              0                   0   \n",
       "1                    1      0              0                   0   \n",
       "2                    1      0              0                   0   \n",
       "3                    4      1             37                  37   \n",
       "4                    4      0              0                   0   \n",
       "..                 ...    ...            ...                 ...   \n",
       "853                  0      0              0                   0   \n",
       "854                  1      0              0                   0   \n",
       "855                  0      0              0                   0   \n",
       "856                  2      0              0                   0   \n",
       "857                  1      0              0                   0   \n",
       "\n",
       "    Hormonal Contraceptives Hormonal Contraceptives (years) IUD  ...  \\\n",
       "0                         0                               0   0  ...   \n",
       "1                         0                               0   0  ...   \n",
       "2                         0                               0   0  ...   \n",
       "3                         1                               3   0  ...   \n",
       "4                         1                              15   0  ...   \n",
       "..                      ...                             ...  ..  ...   \n",
       "853                       0                               0   0  ...   \n",
       "854                       1                               8   0  ...   \n",
       "855                       1                            0.08   0  ...   \n",
       "856                       1                            0.08   0  ...   \n",
       "857                       1                             0.5   0  ...   \n",
       "\n",
       "    STDs: Time since first diagnosis STDs: Time since last diagnosis  \\\n",
       "0                                NaN                             NaN   \n",
       "1                                NaN                             NaN   \n",
       "2                                NaN                             NaN   \n",
       "3                                NaN                             NaN   \n",
       "4                                NaN                             NaN   \n",
       "..                               ...                             ...   \n",
       "853                              NaN                             NaN   \n",
       "854                              NaN                             NaN   \n",
       "855                              NaN                             NaN   \n",
       "856                              NaN                             NaN   \n",
       "857                              NaN                             NaN   \n",
       "\n",
       "    Dx:Cancer Dx:CIN (Cervical Intraepithelial Neoplasia) Dx:HPV Dx  \\\n",
       "0           0                                           0      0  0   \n",
       "1           0                                           0      0  0   \n",
       "2           0                                           0      0  0   \n",
       "3           1                                           0      1  0   \n",
       "4           0                                           0      0  0   \n",
       "..        ...                                         ...    ... ..   \n",
       "853         0                                           0      0  0   \n",
       "854         0                                           0      0  0   \n",
       "855         0                                           0      0  0   \n",
       "856         0                                           0      0  0   \n",
       "857         0                                           0      0  0   \n",
       "\n",
       "    Hinselmann Schiller Citology Biopsy  \n",
       "0            0        0        0      0  \n",
       "1            0        0        0      0  \n",
       "2            0        0        0      0  \n",
       "3            0        0        0      0  \n",
       "4            0        0        0      0  \n",
       "..         ...      ...      ...    ...  \n",
       "853          0        0        0      0  \n",
       "854          0        0        0      0  \n",
       "855          0        0        1      0  \n",
       "856          0        0        0      0  \n",
       "857          0        0        0      0  \n",
       "\n",
       "[858 rows x 36 columns]"
      ]
     },
     "metadata": {},
     "output_type": "display_data"
    }
   ],
   "source": [
    "# Create values of NaN where there are currently ?, in accordance with best practices for tidy data.\n",
    "\n",
    "display(df.replace(\"?\", np.nan))\n",
    "df.replace(\"?\", np.nan,inplace=True)"
   ]
  },
  {
   "cell_type": "code",
   "execution_count": 86,
   "metadata": {},
   "outputs": [],
   "source": [
    "# Drop the columns I do not need for the purposes of this evaluation\n",
    "\n",
    "df.drop(df.iloc[:, 13:28], inplace = True, axis = 1)\n",
    "\n",
    "# Do not run this block more than once as it will delete the 13th-27th columns"
   ]
  },
  {
   "cell_type": "code",
   "execution_count": 87,
   "metadata": {},
   "outputs": [
    {
     "data": {
      "text/plain": [
       "Age                                              int64\n",
       "Number of sexual partners                      float64\n",
       "First sexual intercourse                       float64\n",
       "Num of pregnancies                             float64\n",
       "Smokes                                         float64\n",
       "Smokes (years)                                 float64\n",
       "Smokes (packs/year)                            float64\n",
       "Hormonal Contraceptives                        float64\n",
       "Hormonal Contraceptives (years)                float64\n",
       "IUD                                            float64\n",
       "IUD (years)                                    float64\n",
       "STDs                                           float64\n",
       "STDs (number)                                  float64\n",
       "Dx:Cancer                                        int64\n",
       "Dx:CIN (Cervical Intraepithelial Neoplasia)      int64\n",
       "Dx:HPV                                           int64\n",
       "Dx                                               int64\n",
       "Hinselmann                                       int64\n",
       "Schiller                                         int64\n",
       "Citology                                         int64\n",
       "Biopsy                                           int64\n",
       "dtype: object"
      ]
     },
     "execution_count": 87,
     "metadata": {},
     "output_type": "execute_result"
    }
   ],
   "source": [
    "# List the variable types for each column of the data, to ensure they are as we intend to use them later.\n",
    "    # float64, int64 = quantitative\n",
    "    # object = categorical\n",
    "\n",
    "# Use df.dtypes first to see how Pandas is characterizing the varibles\n",
    "\n",
    "# This block will convert from categorical to quantitative and vice-versa as deemed necessary by me.\n",
    "\n",
    "df['Number of sexual partners'] = pd.to_numeric(df['Number of sexual partners'], errors=\"coerce\")\n",
    "df['First sexual intercourse'] = pd.to_numeric(df['First sexual intercourse'], errors=\"coerce\")\n",
    "df['Num of pregnancies'] = pd.to_numeric(df['Num of pregnancies'], errors=\"coerce\")\n",
    "df['Smokes'] = pd.to_numeric(df['Smokes'], errors=\"coerce\")\n",
    "df['Smokes (years)'] = pd.to_numeric(df['Smokes (years)'], errors=\"coerce\")\n",
    "df['Smokes (packs/year)'] = pd.to_numeric(df['Smokes (packs/year)'], errors=\"coerce\")\n",
    "df['Hormonal Contraceptives'] = pd.to_numeric(df['Hormonal Contraceptives'], errors=\"coerce\")\n",
    "df['Hormonal Contraceptives (years)'] = pd.to_numeric(df['Hormonal Contraceptives (years)'], errors=\"coerce\")\n",
    "df['IUD'] = pd.to_numeric(df['IUD'], errors=\"coerce\")\n",
    "df['IUD (years)'] = pd.to_numeric(df['IUD (years)'], errors=\"coerce\")\n",
    "df['STDs'] = pd.to_numeric(df['STDs'], errors=\"coerce\")\n",
    "df['STDs (number)'] = pd.to_numeric(df['STDs (number)'], errors=\"coerce\")\n",
    "\n",
    "df.dtypes"
   ]
  },
  {
   "cell_type": "markdown",
   "metadata": {},
   "source": [
    "#### Note for tidying this data:\n",
    "By running the .dtypes command, we can see how pandas is categorizing each variable. There are specific ways in which I want to categorize the data: either quantitative or categorical. For the purposes of this project, I have chosen to characterize the binary entries in the columns like: Smokes, Hormonal Contraceptives, IUD, and STDs as quantitative instead of categorical. I have chosen this method so I can perform analyses on the data later using the number or proportion of ones.\n"
   ]
  },
  {
   "cell_type": "markdown",
   "metadata": {},
   "source": [
    "### Additional Data ETL\n",
    "\n",
    "In addition to the above dataframe showing various risks of cervical cancer in women, I will read in other datasets to assist with an insightful analysis later in the project."
   ]
  },
  {
   "cell_type": "markdown",
   "metadata": {},
   "source": [
    "#### Explanation of the dataset: CDC U.S. Cancer Cases\n",
    "\n",
    "The following dataframe refers to the CDC data regarding Cervical Cancer Cases in the U.S. by state. Nationally between the years 2013 and 2017, there were 64,167 new cases of cervical cancer reported to the CDC among women. During this time frame, 20,902 women died of cervical cancer. Nationally, this represents 8 new cervical cancer cases reported and 2 resulting deaths per 100,000 people.\n",
    "\n",
    "The following data reflects the age adjusted rate per 100,000 women of new cervical cancer cases in each state, in addition to the total population of the state and the actual number of women reporting new cases of cervical cancer in that state. This is a direct application of the initial dataframe regarding cervical cancer risk factors. I will read in the data and create a visual dataframe."
   ]
  },
  {
   "cell_type": "code",
   "execution_count": 88,
   "metadata": {},
   "outputs": [
    {
     "data": {
      "text/html": [
       "<div>\n",
       "<style scoped>\n",
       "    .dataframe tbody tr th:only-of-type {\n",
       "        vertical-align: middle;\n",
       "    }\n",
       "\n",
       "    .dataframe tbody tr th {\n",
       "        vertical-align: top;\n",
       "    }\n",
       "\n",
       "    .dataframe thead th {\n",
       "        text-align: right;\n",
       "    }\n",
       "</style>\n",
       "<table border=\"1\" class=\"dataframe\">\n",
       "  <thead>\n",
       "    <tr style=\"text-align: right;\">\n",
       "      <th></th>\n",
       "      <th>State</th>\n",
       "      <th>AgeAdjustedRate</th>\n",
       "      <th>CaseCount</th>\n",
       "      <th>Population</th>\n",
       "    </tr>\n",
       "  </thead>\n",
       "  <tbody>\n",
       "    <tr>\n",
       "      <th>0</th>\n",
       "      <td>Alabama</td>\n",
       "      <td>9.4</td>\n",
       "      <td>1196</td>\n",
       "      <td>12508432</td>\n",
       "    </tr>\n",
       "    <tr>\n",
       "      <th>1</th>\n",
       "      <td>Alaska</td>\n",
       "      <td>7.2</td>\n",
       "      <td>120</td>\n",
       "      <td>1760225</td>\n",
       "    </tr>\n",
       "    <tr>\n",
       "      <th>2</th>\n",
       "      <td>Arizona</td>\n",
       "      <td>6.5</td>\n",
       "      <td>1118</td>\n",
       "      <td>17196077</td>\n",
       "    </tr>\n",
       "    <tr>\n",
       "      <th>3</th>\n",
       "      <td>Arkansas</td>\n",
       "      <td>9.5</td>\n",
       "      <td>729</td>\n",
       "      <td>7580171</td>\n",
       "    </tr>\n",
       "    <tr>\n",
       "      <th>4</th>\n",
       "      <td>California</td>\n",
       "      <td>7.2</td>\n",
       "      <td>7280</td>\n",
       "      <td>97858943</td>\n",
       "    </tr>\n",
       "  </tbody>\n",
       "</table>\n",
       "</div>"
      ],
      "text/plain": [
       "        State  AgeAdjustedRate  CaseCount  Population\n",
       "0     Alabama              9.4       1196    12508432\n",
       "1      Alaska              7.2        120     1760225\n",
       "2     Arizona              6.5       1118    17196077\n",
       "3    Arkansas              9.5        729     7580171\n",
       "4  California              7.2       7280    97858943"
      ]
     },
     "execution_count": 88,
     "metadata": {},
     "output_type": "execute_result"
    }
   ],
   "source": [
    "cancer_df = pd.read_csv(r\"..\\schiariello.github.io\\project_data\\cancer_per_state.csv\") #read in data\n",
    "cancer_df = cancer_df.drop('CancerType',axis=1)\n",
    "cancer_df = cancer_df.drop('Sex',axis=1)\n",
    "cancer_df = cancer_df.drop('Year',axis=1)\n",
    "cancer_df = cancer_df.drop('Race',axis=1) #drop the unneccesary columns\n",
    "\n",
    "cancer_df.rename({'Area':'State'}, axis=1, inplace=True) #standardize the column name of 'State', switch 'Area' to be standard\n",
    "cancer_df.head()"
   ]
  },
  {
   "cell_type": "markdown",
   "metadata": {},
   "source": [
    "#### Explanation of the dataset: U.S. News Health Care Rankings\n",
    "\n",
    "The following was taken from a table shown in the U.S. News, \"measuring how well states are meeting citizens' health care needs.\" This evaluation of health care was based on three factors in order to determine the rank of each state's health care system, and thus, the citizens' overall quality of health. The rank of this analysis is both vague and has it's limitations, so it is to be taken with a grain of salt for further applications. However, it is a good benchmark for the purposes of this project. It is to be noted that this data population is not only women, but the entire population of the state.\n",
    "\n",
    "The factors shown in the following data are as follows: access to care (HC_Acess), quality of care (HC_Quality), and overall health of the population (PH = public health). As stated in the article, they accounted for percentages of adults without health insurance, percentages of those who have not had a routine checkup in the last year, the population of those who went without medical attention due to high costs. Those who ran the study also took into account the general measures corresponding with good physical and mental health, infant mortality, and overall mortality rates. More can be read on the site, linked at the top of the page.\n",
    "\n",
    "This data is useful to the project as I will be comparing state health care quality, access, and perception of public health to new cervical cancer rates in the state, poverty of the state, and generalized cervical cancer risk factors. Here, I will read in the dataframe."
   ]
  },
  {
   "cell_type": "code",
   "execution_count": 89,
   "metadata": {},
   "outputs": [
    {
     "data": {
      "text/html": [
       "<div>\n",
       "<style scoped>\n",
       "    .dataframe tbody tr th:only-of-type {\n",
       "        vertical-align: middle;\n",
       "    }\n",
       "\n",
       "    .dataframe tbody tr th {\n",
       "        vertical-align: top;\n",
       "    }\n",
       "\n",
       "    .dataframe thead th {\n",
       "        text-align: right;\n",
       "    }\n",
       "</style>\n",
       "<table border=\"1\" class=\"dataframe\">\n",
       "  <thead>\n",
       "    <tr style=\"text-align: right;\">\n",
       "      <th></th>\n",
       "      <th>Rank</th>\n",
       "      <th>State</th>\n",
       "      <th>HC_Access</th>\n",
       "      <th>HC_Quality</th>\n",
       "      <th>PH</th>\n",
       "    </tr>\n",
       "  </thead>\n",
       "  <tbody>\n",
       "    <tr>\n",
       "      <th>0</th>\n",
       "      <td>46</td>\n",
       "      <td>Alabama</td>\n",
       "      <td>37</td>\n",
       "      <td>39</td>\n",
       "      <td>47</td>\n",
       "    </tr>\n",
       "    <tr>\n",
       "      <th>1</th>\n",
       "      <td>25</td>\n",
       "      <td>Alaska</td>\n",
       "      <td>49</td>\n",
       "      <td>2</td>\n",
       "      <td>38</td>\n",
       "    </tr>\n",
       "    <tr>\n",
       "      <th>2</th>\n",
       "      <td>23</td>\n",
       "      <td>Arizona</td>\n",
       "      <td>42</td>\n",
       "      <td>11</td>\n",
       "      <td>18</td>\n",
       "    </tr>\n",
       "    <tr>\n",
       "      <th>3</th>\n",
       "      <td>49</td>\n",
       "      <td>Arkansas</td>\n",
       "      <td>45</td>\n",
       "      <td>49</td>\n",
       "      <td>49</td>\n",
       "    </tr>\n",
       "    <tr>\n",
       "      <th>4</th>\n",
       "      <td>7</td>\n",
       "      <td>California</td>\n",
       "      <td>23</td>\n",
       "      <td>10</td>\n",
       "      <td>1</td>\n",
       "    </tr>\n",
       "  </tbody>\n",
       "</table>\n",
       "</div>"
      ],
      "text/plain": [
       "   Rank       State  HC_Access  HC_Quality  PH\n",
       "0    46     Alabama         37          39  47\n",
       "1    25      Alaska         49           2  38\n",
       "2    23     Arizona         42          11  18\n",
       "3    49    Arkansas         45          49  49\n",
       "4     7  California         23          10   1"
      ]
     },
     "execution_count": 89,
     "metadata": {},
     "output_type": "execute_result"
    }
   ],
   "source": [
    "ranking_df = pd.read_csv(r\"..\\schiariello.github.io\\project_data\\HC_Rank.csv\")\n",
    "ranking_df.head()"
   ]
  },
  {
   "cell_type": "markdown",
   "metadata": {},
   "source": [
    "#### Explanation of the dataset: U.S. Department of Agriculture Economic Research Service\n",
    "\n",
    "The following dataframes were created as a reflection of poverty by state in America. The \"percent\" dataframe shows the percentage of the total population living in poverty along with the percentage of children under the age of 18 living in poverty. Similarly, the \"number\" dataframe shows the actual number of total people living in poverty per state, along with children under the age of 18 living in poverty per state. Lower and upper bounds are also included in case we wish to use them at a later point.\n",
    "\n",
    "This data represents one of the many external factors which may lead someone to become infected with HPV or cervical cancer. Inability to pay for proper medical care, insurance, or any annual routine exams could delay the recognition of HPV or cervical cancer in a patient. Poverty and socioeconomic class, along with access to health care, number of primary care clinics in an area, or availiblity of screening tests or appropriate appointment times, can be factors that indirectly lead to an unknowing woman contracting cervical cancer. Looking at poverty percentages and numbers is just one application of a possible external \"risk\" of cervical cancer. Here, I create two separate dataframes from one file."
   ]
  },
  {
   "cell_type": "code",
   "execution_count": 90,
   "metadata": {},
   "outputs": [
    {
     "data": {
      "text/html": [
       "<div>\n",
       "<style scoped>\n",
       "    .dataframe tbody tr th:only-of-type {\n",
       "        vertical-align: middle;\n",
       "    }\n",
       "\n",
       "    .dataframe tbody tr th {\n",
       "        vertical-align: top;\n",
       "    }\n",
       "\n",
       "    .dataframe thead th {\n",
       "        text-align: right;\n",
       "    }\n",
       "</style>\n",
       "<table border=\"1\" class=\"dataframe\">\n",
       "  <thead>\n",
       "    <tr style=\"text-align: right;\">\n",
       "      <th></th>\n",
       "      <th>State</th>\n",
       "      <th>Percent_poverty</th>\n",
       "      <th>Pop_poverty</th>\n",
       "      <th>Rank</th>\n",
       "      <th>HC_Access</th>\n",
       "      <th>HC_Quality</th>\n",
       "      <th>P_Health</th>\n",
       "      <th>Cancer_Rate</th>\n",
       "      <th>Cancer_Count</th>\n",
       "      <th>Population</th>\n",
       "    </tr>\n",
       "  </thead>\n",
       "  <tbody>\n",
       "    <tr>\n",
       "      <th>0</th>\n",
       "      <td>Alabama</td>\n",
       "      <td>16.8</td>\n",
       "      <td>801,758</td>\n",
       "      <td>46.0</td>\n",
       "      <td>37.0</td>\n",
       "      <td>39.0</td>\n",
       "      <td>47.0</td>\n",
       "      <td>9.4</td>\n",
       "      <td>1196</td>\n",
       "      <td>12508432</td>\n",
       "    </tr>\n",
       "    <tr>\n",
       "      <th>1</th>\n",
       "      <td>Alaska</td>\n",
       "      <td>11.1</td>\n",
       "      <td>80,224</td>\n",
       "      <td>25.0</td>\n",
       "      <td>49.0</td>\n",
       "      <td>2.0</td>\n",
       "      <td>38.0</td>\n",
       "      <td>7.2</td>\n",
       "      <td>120</td>\n",
       "      <td>1760225</td>\n",
       "    </tr>\n",
       "    <tr>\n",
       "      <th>2</th>\n",
       "      <td>Arizona</td>\n",
       "      <td>14.1</td>\n",
       "      <td>990,291</td>\n",
       "      <td>23.0</td>\n",
       "      <td>42.0</td>\n",
       "      <td>11.0</td>\n",
       "      <td>18.0</td>\n",
       "      <td>6.5</td>\n",
       "      <td>1118</td>\n",
       "      <td>17196077</td>\n",
       "    </tr>\n",
       "    <tr>\n",
       "      <th>3</th>\n",
       "      <td>Arkansas</td>\n",
       "      <td>16.8</td>\n",
       "      <td>492,306</td>\n",
       "      <td>49.0</td>\n",
       "      <td>45.0</td>\n",
       "      <td>49.0</td>\n",
       "      <td>49.0</td>\n",
       "      <td>9.5</td>\n",
       "      <td>729</td>\n",
       "      <td>7580171</td>\n",
       "    </tr>\n",
       "    <tr>\n",
       "      <th>4</th>\n",
       "      <td>California</td>\n",
       "      <td>12.8</td>\n",
       "      <td>4,972,955</td>\n",
       "      <td>7.0</td>\n",
       "      <td>23.0</td>\n",
       "      <td>10.0</td>\n",
       "      <td>1.0</td>\n",
       "      <td>7.2</td>\n",
       "      <td>7280</td>\n",
       "      <td>97858943</td>\n",
       "    </tr>\n",
       "    <tr>\n",
       "      <th>5</th>\n",
       "      <td>Colorado</td>\n",
       "      <td>9.7</td>\n",
       "      <td>540,579</td>\n",
       "      <td>12.0</td>\n",
       "      <td>29.0</td>\n",
       "      <td>7.0</td>\n",
       "      <td>8.0</td>\n",
       "      <td>6.2</td>\n",
       "      <td>868</td>\n",
       "      <td>13547027</td>\n",
       "    </tr>\n",
       "    <tr>\n",
       "      <th>6</th>\n",
       "      <td>Connecticut</td>\n",
       "      <td>10.3</td>\n",
       "      <td>358,519</td>\n",
       "      <td>3.0</td>\n",
       "      <td>1.0</td>\n",
       "      <td>14.0</td>\n",
       "      <td>6.0</td>\n",
       "      <td>6.1</td>\n",
       "      <td>591</td>\n",
       "      <td>9185764</td>\n",
       "    </tr>\n",
       "    <tr>\n",
       "      <th>7</th>\n",
       "      <td>Delaware</td>\n",
       "      <td>12.2</td>\n",
       "      <td>114,691</td>\n",
       "      <td>15.0</td>\n",
       "      <td>18.0</td>\n",
       "      <td>6.0</td>\n",
       "      <td>28.0</td>\n",
       "      <td>7.8</td>\n",
       "      <td>199</td>\n",
       "      <td>2427686</td>\n",
       "    </tr>\n",
       "    <tr>\n",
       "      <th>8</th>\n",
       "      <td>District of Columbia</td>\n",
       "      <td>16.1</td>\n",
       "      <td>107,806</td>\n",
       "      <td>NaN</td>\n",
       "      <td>NaN</td>\n",
       "      <td>NaN</td>\n",
       "      <td>NaN</td>\n",
       "      <td>8.8</td>\n",
       "      <td>155</td>\n",
       "      <td>1771124</td>\n",
       "    </tr>\n",
       "    <tr>\n",
       "      <th>9</th>\n",
       "      <td>Florida</td>\n",
       "      <td>13.7</td>\n",
       "      <td>2,854,438</td>\n",
       "      <td>29.0</td>\n",
       "      <td>46.0</td>\n",
       "      <td>24.0</td>\n",
       "      <td>15.0</td>\n",
       "      <td>8.9</td>\n",
       "      <td>5007</td>\n",
       "      <td>51742206</td>\n",
       "    </tr>\n",
       "  </tbody>\n",
       "</table>\n",
       "</div>"
      ],
      "text/plain": [
       "                  State Percent_poverty Pop_poverty  Rank  HC_Access  \\\n",
       "0               Alabama            16.8     801,758  46.0       37.0   \n",
       "1                Alaska            11.1      80,224  25.0       49.0   \n",
       "2               Arizona            14.1     990,291  23.0       42.0   \n",
       "3              Arkansas            16.8     492,306  49.0       45.0   \n",
       "4            California            12.8   4,972,955   7.0       23.0   \n",
       "5              Colorado             9.7     540,579  12.0       29.0   \n",
       "6           Connecticut            10.3     358,519   3.0        1.0   \n",
       "7              Delaware            12.2     114,691  15.0       18.0   \n",
       "8  District of Columbia            16.1     107,806   NaN        NaN   \n",
       "9               Florida            13.7   2,854,438  29.0       46.0   \n",
       "\n",
       "   HC_Quality  P_Health  Cancer_Rate  Cancer_Count  Population  \n",
       "0        39.0      47.0          9.4          1196    12508432  \n",
       "1         2.0      38.0          7.2           120     1760225  \n",
       "2        11.0      18.0          6.5          1118    17196077  \n",
       "3        49.0      49.0          9.5           729     7580171  \n",
       "4        10.0       1.0          7.2          7280    97858943  \n",
       "5         7.0       8.0          6.2           868    13547027  \n",
       "6        14.0       6.0          6.1           591     9185764  \n",
       "7         6.0      28.0          7.8           199     2427686  \n",
       "8         NaN       NaN          8.8           155     1771124  \n",
       "9        24.0      15.0          8.9          5007    51742206  "
      ]
     },
     "execution_count": 90,
     "metadata": {},
     "output_type": "execute_result"
    }
   ],
   "source": [
    "poverty2 = pd.read_csv(r'..\\schiariello.github.io\\project_data\\PovertyReport2.csv') #read in data\n",
    "poverty2 = poverty2.drop('Textbox98',axis=1)\n",
    "poverty2 = poverty2.drop('Textbox99',axis=1) #drop unneccessary columns\n",
    "\n",
    "percent = pd.DataFrame(poverty2.loc[0:51]) #take the top half of the data which is the percentage data, create DF\n",
    "number = pd.DataFrame(poverty2.loc[54:]) #take the bottom half of the data which is the number data, create separate DF\n",
    "\n",
    "percent.columns = ['State','Total','min_total','max_total','under18','min_under18','max_under18']\n",
    "number.columns = ['State','Total','min_total','max_total','under18','min_under18','max_under18']\n",
    "#standardize columns to be meaningful variable names ^^\n",
    "\n",
    "percent.drop(percent.index[27], inplace=True) #drop the row that has 'National' data\n",
    "percent.reset_index(drop=True,inplace=True) #reset the index so it includes the 27th entry\n",
    "#percent\n",
    "\n",
    "number.drop(number.index[27], inplace=True) #same as above^^\n",
    "number.reset_index(drop=True,inplace=True)\n",
    "#number.head()\n",
    "\n",
    "number_percent_pov = percent.merge(number,on=['State'],how='inner') #create a full dataframe for poverty\n",
    "number_percent_poverty = number_percent_pov[['State','Total_x','Total_y']] #only take the columns I wish to use for now\n",
    "#number_percent_poverty\n",
    "number_percent_rank = number_percent_poverty.merge(ranking_df,on=['State'],how='outer') #merge with HC rank DF, outer will include DC\n",
    "full_additional = number_percent_rank.merge(cancer_df,on=['State'],how='outer') #merge the poverty and rank DF with the cancer rates DF\n",
    "full_additional.columns = ['State','Percent_poverty','Pop_poverty','Rank','HC_Access','HC_Quality','P_Health','Cancer_Rate','Cancer_Count','Population']\n",
    "# set column titles to make sense and be informative to a reader\n",
    "full_additional.head(10) #show all the state's data on what I thought would be some interesting qualitative data"
   ]
  },
  {
   "cell_type": "code",
   "execution_count": 91,
   "metadata": {},
   "outputs": [
    {
     "data": {
      "text/plain": [
       "State               object\n",
       "Percent_poverty    float64\n",
       "Pop_poverty          int64\n",
       "Rank               float64\n",
       "HC_Access          float64\n",
       "HC_Quality         float64\n",
       "P_Health           float64\n",
       "Cancer_Rate        float64\n",
       "Cancer_Count         int64\n",
       "Population           int64\n",
       "dtype: object"
      ]
     },
     "execution_count": 91,
     "metadata": {},
     "output_type": "execute_result"
    }
   ],
   "source": [
    "# check and fix the dtypes\n",
    "full_additional['Percent_poverty'] = pd.to_numeric(full_additional['Percent_poverty'], errors=\"coerce\")\n",
    "#full_additional['Pop_poverty'] = full_additional['Pop_poverty'].str.extract('(\\d+)',expand=False).astype(float)\n",
    "full_additional['Pop_poverty'] = full_additional['Pop_poverty'].replace(',','', regex=True)\n",
    "full_additional['Pop_poverty'] = pd.to_numeric(full_additional['Pop_poverty'], errors=\"coerce\")\n",
    "full_additional.dtypes"
   ]
  },
  {
   "cell_type": "markdown",
   "metadata": {},
   "source": [
    "### Exploratory Analysis of Initial Dataset: Cervical Cancer on an Individual Level\n",
    "\n",
    "Now that I have tidy data, I want to be able to create meaningful visuals of the data. I can see that 'Age' is the first column of the dataset. Research suggest that age may be an indirect risk factor for cervical cancer. With age may come more sexual partners, and thus, a greater chance of contracting HPV, which is a known precursor to cervical cancer. Also with age, women may have children, which could increase their risk of getting cervical cancer. Furthermore, habits like smoking usually are age-dependent, and so is the use of birth control. Here, I will create a visualization of the age distribution of those surveyed in the data in order to make meaningful insights about the risk factors later on in the project."
   ]
  },
  {
   "cell_type": "code",
   "execution_count": 92,
   "metadata": {},
   "outputs": [
    {
     "data": {
      "text/plain": [
       "<matplotlib.axes._subplots.AxesSubplot at 0x216a6ebaaf0>"
      ]
     },
     "execution_count": 92,
     "metadata": {},
     "output_type": "execute_result"
    },
    {
     "data": {
      "image/png": "[encoded data removed]",
      "text/plain": [
       "<Figure size 432x288 with 1 Axes>"
      ]
     },
     "metadata": {
      "needs_background": "light"
     },
     "output_type": "display_data"
    }
   ],
   "source": [
    "(df['Age']).plot.hist(bins=20, title='Age Distribution of Risk Data Participants') #add **.3 to skew?"
   ]
  },
  {
   "cell_type": "markdown",
   "metadata": {},
   "source": [
    "#### Question 1: How does the age of first sexual intercourse affect the possibility of getting cancer due to the spread of HPV?\n",
    "\n",
    "My hypothesis is that those who experienced their first sexual encounter at an earlier age may come into contact with HPV sooner. Women are encouraged to get screened for HPV regularly to find any abnormalities early on. Those who became sexually active sooner may be tested earlier, revealing a positive diagnosis for HPV. Here, I will graph the age distribution of when women said they had their first sexual encounter. Then, I will check the HPV diagnosis column and pull out who had answered that they had received that diagnosis and at what age they had become sexually active."
   ]
  },
  {
   "cell_type": "code",
   "execution_count": 93,
   "metadata": {},
   "outputs": [
    {
     "name": "stdout",
     "output_type": "stream",
     "text": [
      "16.995299647473562 is the average age that women in the dataset were first sexually active\n"
     ]
    },
    {
     "data": {
      "image/png": "[encoded data removed]",
      "text/plain": [
       "<Figure size 432x288 with 1 Axes>"
      ]
     },
     "metadata": {
      "needs_background": "light"
     },
     "output_type": "display_data"
    }
   ],
   "source": [
    "(df['First sexual intercourse']).plot.hist(bins=22, title='Age Distribution of First Sexual Intercourse of Risk Data')\n",
    "print(df['First sexual intercourse'].mean(),'is the average age that women in the dataset were first sexually active')"
   ]
  },
  {
   "cell_type": "code",
   "execution_count": 94,
   "metadata": {},
   "outputs": [
    {
     "name": "stdout",
     "output_type": "stream",
     "text": [
      "17.833333333333332 is the average age at which the women diagnosed with HPV were first sexually active\n"
     ]
    },
    {
     "data": {
      "image/png": "[encoded data removed]",
      "text/plain": [
       "<Figure size 432x288 with 1 Axes>"
      ]
     },
     "metadata": {},
     "output_type": "display_data"
    }
   ],
   "source": [
    "f = df.loc[df['Dx:HPV'] == 1]\n",
    "f['First sexual intercourse'].value_counts().sort_index().plot.pie(autopct='%1.f%%',\n",
    "                                                      title='Age of First Sexual Encounter for Those Diagnosed with HPV')\n",
    "print(f['First sexual intercourse'].mean(),'is the average age at which the women diagnosed with HPV were first sexually active')"
   ]
  },
  {
   "cell_type": "markdown",
   "metadata": {},
   "source": [
    "The first histogram showing the distribution of the age at which women experienced their first time has two major peaks at around age 15-16 and age 18-19. The two spikes represent the average age at which a woman surveyed had her first sexual experience: 17. When looking at the following pie chart, I have graphed the ages of first sexual intercourse for those who had been diagnosed with HPV. The average age of first sexual intercourse of the women who had been diagnosed with HPV was almost a year older than the average of the whole dataset: 18. This leads me to reject my hypothesis that women who were sexually active at a younger age would make up more of the HPV diagnosed subset of participants. As 28% of the women diagnosed with HPV were first sexually active at 18, it seems appropriate to encourage young sexually active women to also be screened for HPV around that age. However, American Cancer Society states that women should be screened starting at 25 years old. [More Info Here](https://www.cancer.org/cancer/cervical-cancer/detection-diagnosis-staging/cervical-cancer-screening-guidelines.html#:~:text=Cervical%20cancer%20testing%20(screening)%20should,HPV%20test*%20every%205%20years.)"
   ]
  },
  {
   "cell_type": "markdown",
   "metadata": {},
   "source": [
    "#### Question 2: How does age relate to the number of sexual partners and the spread of HPV?\n",
    "\n",
    "The next visualization I am interested in is the age vs the number of sexual partners. My immediate hypothesis would be that with age, women accumulate more sexual partners. As we know, as the number of partners increases, so does the risk of contracting a sexually transmitted disease. A woman with more sexual partners may have a higher chance of getting HPV and thus, have a higher likelihood of getting cervical cancer due to abnormal cells in the cervix. To view the relationship between age and number of sexual partners, I can graph a scatter plot."
   ]
  },
  {
   "cell_type": "code",
   "execution_count": 95,
   "metadata": {
    "scrolled": false
   },
   "outputs": [
    {
     "name": "stdout",
     "output_type": "stream",
     "text": [
      "The average number of sexual partners of women in this dataset is: 2.527644230769231\n"
     ]
    },
    {
     "data": {
      "image/png": "[encoded data removed]",
      "text/plain": [
       "<Figure size 864x360 with 1 Axes>"
      ]
     },
     "metadata": {
      "needs_background": "light"
     },
     "output_type": "display_data"
    }
   ],
   "source": [
    "df.plot.scatter(x='Age',y='Number of sexual partners',\n",
    "                alpha=.3, figsize=(12,5), title='Relationship Between Age & Number of Sexual Partners')\n",
    "print('The average number of sexual partners of women in this dataset is:',df['Number of sexual partners'].mean())"
   ]
  },
  {
   "cell_type": "code",
   "execution_count": 96,
   "metadata": {},
   "outputs": [],
   "source": [
    "n = df.loc[df['Dx:HPV'] == 1]\n",
    "s = df.loc[df['STDs'] == 1]\n",
    "\n",
    "# Output: Number of partners ; How many women were diagnosed with HPV who had that quantity of sexual partners\n",
    "#n['Number of sexual partners'].value_counts().sort_index()  \n",
    "#n['Number of sexual partners'].mean()\n",
    "\n",
    "# Output: Number of partners ; How many women were diagnosed with an STD who had that quantity of sexual partners\n",
    "#s['Number of sexual partners'].value_counts().sort_index()\n",
    "#s['Number of sexual partners'].mean()"
   ]
  },
  {
   "cell_type": "markdown",
   "metadata": {},
   "source": [
    "So, this is interesting. It does not reflect what I anticipated. As I mentioned, I believed the graph would have a slight upward trend, with more women having a greater number of sexual partners as they age. As shown above, it seems that most of the data hovers from 1-5 sexual partners no matter the age. The data includes a small sample of older women, so it may not be an accurate representation of the whole generation. Furthermore, perhaps an explanation of the data could be a change in societal standards and social perceptions. Societal standards and attitudes towards sex and women have changed drastically in the last few years. Perhaps the trend is shifting toward younger women having more sexual partners. This being said, [research](https://www.theatlantic.com/business/archive/2015/06/millennials-delaying-marriage-money-weddings/395870/) has shown that women are getting married later and later, so the argument may be made that older women today got married sooner, reflecting less sexual partners over time. Women now may be spending more of their youth single, resulting in more sexual partners with time. For example, the data point representing the 70 year old woman seems to show that she had one sexual partner throughout her life, meaning perhaps it was her husband. While this visualization does not capture all of these points, it raises some questions and associated conclusions, which is great for now.\n",
    "\n",
    "Furthermore, it does not seem that those with more partners have a higher rate of getting HPV, or more generally STDs. The vast majority of those who contracted HPV or an STD still had few sexual partners. The difference in the average number of sexual partners is approximately 0.3 between all participants and those who contracted HPV or an STD."
   ]
  },
  {
   "cell_type": "markdown",
   "metadata": {},
   "source": [
    "#### Question 3: Hormonal contraceptives and smoking are believed to increase risk for cervical cancer. Is this true?\n",
    "\n",
    "Another relationship I may want to look at is that of age with either use of hormonal contraceptives or smoking. In order to determine whether these are good risk factors to evaluate for this study, there needs to be some population of the whole participant group that uses contraceptives or smokes. Both factors are said to increase chances of contracting cervical cancer. By creating a visualization of these variables, I can see whether they have a substantive population within the dataset to analyze the risk.\n",
    "\n",
    "I suspect that more women will have used or are currently using hormonal contraceptives than those who smoke."
   ]
  },
  {
   "cell_type": "code",
   "execution_count": 97,
   "metadata": {},
   "outputs": [
    {
     "data": {
      "text/plain": [
       "<matplotlib.legend.Legend at 0x216a71fecd0>"
      ]
     },
     "execution_count": 97,
     "metadata": {},
     "output_type": "execute_result"
    },
    {
     "data": {
      "image/png": "[encoded data removed]",
      "text/plain": [
       "<Figure size 1440x360 with 2 Axes>"
      ]
     },
     "metadata": {
      "needs_background": "light"
     },
     "output_type": "display_data"
    }
   ],
   "source": [
    "#pd.unique(df['STDs (number)'])\n",
    "fig, ax = plt.subplots(1, 2, figsize=(20,5))\n",
    "fig1 = df.groupby(\"Hormonal Contraceptives\").Age.plot.hist(ax=ax[0], alpha=.5, legend=True,\n",
    "                                                           bins=20,title='Age vs Hormonal Contraceptive Use')\n",
    "fig2 = df.groupby(\"Smokes\").Age.plot.hist(ax=ax[1], alpha=.5,legend=True, bins=20,title='Age vs Smokes')\n",
    "# density=True,\n",
    "ax[0].legend(['Does not use HC','Uses HC'])\n",
    "ax[1].legend(['Does not smoke','Smokes'])"
   ]
  },
  {
   "cell_type": "markdown",
   "metadata": {},
   "source": [
    "The data for the first graph on the left is very interesting. After a quick check, 481 participants have used hormonal birth control and 269 have not. With a relatively high prevalence among women, contraceptive birth control such as the pill may still have unintended side effects or risks. As of now, doctors recognize an increase in blood clotting and/or depression as two of the most concerning health risks for taking hormonal contraceptives. [Research](https://www.cancer.gov/about-cancer/causes-prevention/risk/hormones/oral-contraceptives-fact-sheet#:~:text=The%20longer%20a%20woman%20uses,years%20of%20use%20(9).) states that taking contraceptive pills for over 5 years increases the risk of cervical cancer. Furthermore, the more years a woman takes the pill, the higher her risk of cervical cancer becomes. Here, the graph shows that more than half of the population of this study, who are mostly younger women in their 20s and 30s are using hormonal contraceptives. This is a major risk factor down the line for developing cervical cancer. \n",
    "\n",
    "Smoking is another risk factor that increases a woman's likelihood to get diagnosed with [cervical cancer](https://www.cancer.org/cancer/cervical-cancer/causes-risks-prevention/risk-factors.html#:~:text=Tobacco%20by%2Dproducts%20have%20been,effective%20in%20fighting%20HPV%20infections.). Tobacco by-products have been found in the mucus of the cervix in past studies. Tobacco also damages the DNA of the cervical cells and lessen their immune response capabilities, making them more susceptible to HPV. As per the graph above on the right, I expected more of the population of the study to be smokers. However, this not-normalized view gives an accurate representation of the minority of smokers from the group. Still, although prevalence of smoking has severely decreased over time, this shows there are still women who smoke who may be increasing their risk of getting cancer."
   ]
  },
  {
   "cell_type": "markdown",
   "metadata": {},
   "source": [
    "#### Question 4: Are there any factors that seem to lead to malignancies at a higher rate?\n",
    "\n",
    "This dataset uses 4 target variables as possible measures of testing for malignancies: Hinselmann, Schiller, Citology, and Biopsy. Hinselmann and Schiller are two testing methods of staining and identifying irregular cellular appearance under a microscope. Citology and biopsy are two other examination methods for screening for cancerous cells requiring stained smears and surgical removal respectively. If a woman had these tests performed and it showed as a malignant sample, it was marked as so in the data. It should be noted that just because a participant may have had a malignant sample in one target variable does not mean she has a malignancy using a different test, nor does it necessarily mean she has cervical cancer."
   ]
  },
  {
   "cell_type": "code",
   "execution_count": 98,
   "metadata": {},
   "outputs": [
    {
     "data": {
      "text/plain": [
       "Smokes                     123.0\n",
       "Hormonal Contraceptives    481.0\n",
       "IUD                         83.0\n",
       "STDs                        79.0\n",
       "Dx:Cancer                   18.0\n",
       "Dx:HPV                      18.0\n",
       "Hinselmann                  35.0\n",
       "Schiller                    74.0\n",
       "Citology                    44.0\n",
       "Biopsy                      55.0\n",
       "dtype: float64"
      ]
     },
     "execution_count": 98,
     "metadata": {},
     "output_type": "execute_result"
    }
   ],
   "source": [
    "df[['Smokes','Hormonal Contraceptives','IUD','STDs','Dx:Cancer','Dx:HPV',\n",
    "   'Hinselmann','Schiller','Citology','Biopsy']].sum()"
   ]
  },
  {
   "cell_type": "markdown",
   "metadata": {},
   "source": [
    "As previously noted, I classified the binary variables as quantitative so I could use the sum() and mean() functions. The sum of the columns can tell us how many participants in the study smoke (123), use/have used hormonal contraceptives (481), have/have had an IUD (83), STDs (79), cancer diagnosis (18), and HPV diagnosis (18). This also tells us that 35 participants showed malignancies via the Hinselmann test, 74 with Schiller, 44 from citology, and 55 from a biopsy. \n",
    "\n",
    "The mean of the risk factors can tell us the proportion of the ones. By using the mean function, I can tell the proportion of the risk factors among the participants who showed malignancy in each test. The proportion may have insights about which risk factor has more relevance to showing cellular signs of cancer. My hypothesis is that STDs and HPV diagnosis will lead to later malignancies in the four tests."
   ]
  },
  {
   "cell_type": "code",
   "execution_count": 99,
   "metadata": {},
   "outputs": [
    {
     "data": {
      "text/plain": [
       "Text(0.5, 0.98, 'Risk Factor Association to Malignant Samples from Four Different Tests')"
      ]
     },
     "execution_count": 99,
     "metadata": {},
     "output_type": "execute_result"
    },
    {
     "data": {
      "image/png": "[encoded data removed]",
      "text/plain": [
       "<Figure size 1440x360 with 4 Axes>"
      ]
     },
     "metadata": {
      "needs_background": "light"
     },
     "output_type": "display_data"
    }
   ],
   "source": [
    "Hins1 = pd.DataFrame(df.loc[df['Hinselmann']==1])\n",
    "Schil1 = pd.DataFrame(df.loc[df['Schiller']==1])\n",
    "Cit1 = pd.DataFrame(df.loc[df['Citology']==1])\n",
    "Bio1 = pd.DataFrame(df.loc[df['Biopsy']==1])\n",
    "\n",
    "fig, ax = plt.subplots(1, 4, figsize=(20,5))\n",
    "Hins1[['Smokes','Hormonal Contraceptives','IUD','STDs','Dx:Cancer','Dx:HPV']].mean().plot.bar(ax=ax[0],\n",
    "                                                                                             title='Hinselmann Test')\n",
    "Schil1[['Smokes','Hormonal Contraceptives','IUD','STDs','Dx:Cancer','Dx:HPV']].mean().plot.bar(ax=ax[1],\n",
    "                                                                                              title='Schiller Test')\n",
    "Cit1[['Smokes','Hormonal Contraceptives','IUD','STDs','Dx:Cancer','Dx:HPV']].mean().plot.bar(ax=ax[2],\n",
    "                                                                                            title='Citology Test')\n",
    "Bio1[['Smokes','Hormonal Contraceptives','IUD','STDs','Dx:Cancer','Dx:HPV']].mean().plot.bar(ax=ax[3],\n",
    "                                                                                            title='Biopsy Test')\n",
    "fig.suptitle('Risk Factor Association to Malignant Samples from Four Different Tests')"
   ]
  },
  {
   "cell_type": "markdown",
   "metadata": {},
   "source": [
    "My hypothesis was not accurate at all for this question. Hormonal contraceptives seem to have the highest proportion to those who showed malignancies. However, this may be due to the sheer larger number of participants who have used hormonal contraceptives. Out of ~860 participants, 481 use hormonal contraceptives, whereas the number of those showing malignancies via Hinselmann was a mere 35.\n",
    "\n",
    "Following contraceptives, smoking has the highest proportion in the Hinselmann test, smoking and STDs in the Schiller test, and STDs in the citology and biopsy examinations. I am surprised that HPV diagnosis did not have a higher association."
   ]
  },
  {
   "cell_type": "markdown",
   "metadata": {},
   "source": [
    "### Discussion of Missing Data\n",
    "\n",
    "Next, I would like to address the elephant in the dataset: the missing values. Because most of the data is in binary terms, participants either have to choose between yes or no. Because this data is about health, lifestyle choices, sexual experiences, and other sensitive and stigmatized information, I believe the data is missing: not at random. Most of the variables are not something observed about the participant. With respect to the participant survey information, none of them did not know their age, for example. This shows that the data that had been filled in with \"??\" was really just something that the participant did not want to disclose (like number of STDs), or simply may not have known (like number of sexual partners). (How did 117 people not know whether they had had an IUD or not when it is a an insertion done by a doctor?) Having a full data table with no missing values may have significantly changed some results or led to more questions. With moer time, I would have liked to delve more into how to solve the missing data issue using types of imputations and figuring out where the error would be the least. Below, I count the number of missing values within each column."
   ]
  },
  {
   "cell_type": "code",
   "execution_count": 100,
   "metadata": {},
   "outputs": [
    {
     "data": {
      "text/plain": [
       "Age                                              0\n",
       "Number of sexual partners                       26\n",
       "First sexual intercourse                         7\n",
       "Num of pregnancies                              56\n",
       "Smokes                                          13\n",
       "Smokes (years)                                  13\n",
       "Smokes (packs/year)                             13\n",
       "Hormonal Contraceptives                        108\n",
       "Hormonal Contraceptives (years)                108\n",
       "IUD                                            117\n",
       "IUD (years)                                    117\n",
       "STDs                                           105\n",
       "STDs (number)                                  105\n",
       "Dx:Cancer                                        0\n",
       "Dx:CIN (Cervical Intraepithelial Neoplasia)      0\n",
       "Dx:HPV                                           0\n",
       "Dx                                               0\n",
       "Hinselmann                                       0\n",
       "Schiller                                         0\n",
       "Citology                                         0\n",
       "Biopsy                                           0\n",
       "dtype: int64"
      ]
     },
     "execution_count": 100,
     "metadata": {},
     "output_type": "execute_result"
    }
   ],
   "source": [
    "df.isnull().sum()"
   ]
  },
  {
   "cell_type": "markdown",
   "metadata": {},
   "source": [
    "### Exploratory Analysis of Additional Dataset: Cervical Cancer with a Larger Scope\n",
    "\n",
    "Now that we have identified individualized risk factors that may lead to cervical cancer, we can visualize some proposed external relationships. I want to include the macro level infrastructure that could influence cervical cancer rates on a larger scale. I have chosen poverty data and healthcare data to see how they may be associated with cervical cancer rates within states.\n",
    "\n",
    "First, I want to get a better idea of where the states fall in this health care ranking system. I can see based on the table that Mississippi has the worst ranking out of the 50 states overall, and equally as bad for each individual subcategory. I started off by creating a graph of all 50 of the states with their ranks but it was incredibly over-informative and overwhelming. Thus, I have taken the top 5 with the best health care systems and the ones with the lowest rank to graph them and view the differences."
   ]
  },
  {
   "cell_type": "code",
   "execution_count": 101,
   "metadata": {},
   "outputs": [],
   "source": [
    "full_by_rank = full_additional.set_index('Rank')\n",
    "full_first = full_by_rank.loc[[1,2,3,4,5]]\n",
    "full_last = full_by_rank.loc[[46,47,48,49,50]]\n",
    "rank_min_max = pd.concat([full_first,full_last])\n",
    "rank_min_max = rank_min_max.reset_index()\n",
    "#rank_min_max"
   ]
  },
  {
   "cell_type": "code",
   "execution_count": 102,
   "metadata": {},
   "outputs": [
    {
     "data": {
      "text/plain": [
       "<matplotlib.axes._subplots.AxesSubplot at 0x216a74928e0>"
      ]
     },
     "execution_count": 102,
     "metadata": {},
     "output_type": "execute_result"
    },
    {
     "data": {
      "image/png": "[encoded data removed]",
      "text/plain": [
       "<Figure size 720x648 with 1 Axes>"
      ]
     },
     "metadata": {
      "needs_background": "light"
     },
     "output_type": "display_data"
    }
   ],
   "source": [
    "rank_min_max.plot.barh(x='State',y=['Rank','HC_Access','HC_Quality','P_Health'], figsize=(10,9),\n",
    "                       title='Overall Health Care Rank from Worst (Top) to Best (Bottom)')"
   ]
  },
  {
   "cell_type": "markdown",
   "metadata": {},
   "source": [
    "The longer the bar, the worse the health care ranking. So the upper most 5 states, Mississippi, Arkansas, West Virginia, Oklahoma, and Alabama have the worst ranked health care in the nation. This graph also shows the subcategories making up that ranking: access, quality, and public health. Vice versa, the bottom most state, Hawaii, is ranked for the best health care in the nation.I am most interested in looking at the access subcategory along with the rank. Access to health care is a huge issue nationwide and in developing nations. Poor access to health care can hinder diagnoses and treatment for cervical cancer, in particular. "
   ]
  },
  {
   "cell_type": "markdown",
   "metadata": {},
   "source": [
    "#### Question 5: With better healthcare infrastructure in a state, will there be lower incidence of cervical cancer?\n",
    "\n",
    "I want to look at how the health care ranking data relates to the cancer rates data. My original hypothesis is that there has to be some sort of correlation between the two sets. I think that with higher ranking and a more accessible health care system, cervical cancer rates will be lower. States with worse health care infrastucture in place will have higher incidence of cervical cancer. Perhaps women in those states face a lack of quality health care, lack of quality physicians, lack of educational health material, lack of education, increase in smoking, higher rates of STDs (perhaps resulting from the lack of education), etc. If there is no correlation, I would be surprised."
   ]
  },
  {
   "cell_type": "code",
   "execution_count": 103,
   "metadata": {},
   "outputs": [
    {
     "data": {
      "image/png": "[encoded data removed]",
      "text/plain": [
       "<Figure size 1080x360 with 2 Axes>"
      ]
     },
     "metadata": {
      "needs_background": "light"
     },
     "output_type": "display_data"
    }
   ],
   "source": [
    "fig, ax = plt.subplots(1, 2, figsize=(15,5))\n",
    "#fig1= full_additional.plot.scatter(ax=ax[0],x='Rank',y='Cancer_Rate',title='Health Care Rank vs Cancer Rate')\n",
    "fig1 = sns.regplot(data=full_additional, x='Rank', y=\"Cancer_Rate\",ax=ax[0], fit_reg=True, marker=\"o\")\n",
    "# add regression line using seaborn\n",
    "fig2 = sns.regplot(data=full_additional, x='HC_Access', y=\"Cancer_Rate\",ax=ax[1], fit_reg=True, marker=\"o\")"
   ]
  },
  {
   "cell_type": "markdown",
   "metadata": {},
   "source": [
    "My hypothesis was correct. States with the worst rank and the least accessibility to health care also seem to have the highest cancer rates. The regression lines show the correlation. \n",
    "\n",
    "#### Question 6: Does a greater population inevitably mean a higher prevalence of cervica cancer among those who live there? \n",
    "\n",
    "Next, I want to work a little bit with the population data at the end of the dataframe. My intuition tells me that, following logic, with a greater population, comes a greater incidence of cervical cancer. The more people are in a state, the more people are diagnosed with cervical cancer. Are there any outliers?"
   ]
  },
  {
   "cell_type": "code",
   "execution_count": 104,
   "metadata": {},
   "outputs": [
    {
     "data": {
      "text/plain": [
       "<matplotlib.axes._subplots.AxesSubplot at 0x216a8cc4e20>"
      ]
     },
     "execution_count": 104,
     "metadata": {},
     "output_type": "execute_result"
    },
    {
     "data": {
      "image/png": "[encoded data removed]",
      "text/plain": [
       "<Figure size 432x288 with 1 Axes>"
      ]
     },
     "metadata": {
      "needs_background": "light"
     },
     "output_type": "display_data"
    }
   ],
   "source": [
    "full_additional.plot.scatter(x='Population',\n",
    "                             y='Cancer_Count', alpha=.3, s=32,\n",
    "                             title='Overall State Population vs Number of People in the State with Cancer')"
   ]
  },
  {
   "cell_type": "markdown",
   "metadata": {},
   "source": [
    "So, that appears to be sound logic. This graph certainly shows a high correlation between cancer count and population though, which confirms my initial ideas. There does not really seem to be any outlying states to look further into, either.\n",
    "\n",
    "#### Question 7: Do states with higher rates of poverty have less accessible healthcare and does this effect cervical cancer rates?\n",
    "I would like to incorporate the poverty data to test my theory that low ranked health care/inaccessible health care/higher cancer rates may be due to a poverty factor. My hypothesis is that poorer states may have worse ranked health care. Those living in poorer states may find health care inaccessible due to costs. Maybe they do not go for a check up or annual exam since they can't afford it. We previously spotted the correlation between higher cancer rates and inaccessible health care infrastructure. Perhaps this entire chain of events is due to the poverty levels of those in that state."
   ]
  },
  {
   "cell_type": "code",
   "execution_count": 105,
   "metadata": {},
   "outputs": [
    {
     "data": {
      "text/plain": [
       "<matplotlib.axes._subplots.AxesSubplot at 0x216a77f2eb0>"
      ]
     },
     "execution_count": 105,
     "metadata": {},
     "output_type": "execute_result"
    },
    {
     "data": {
      "image/png": "[encoded data removed]",
      "text/plain": [
       "<Figure size 720x432 with 2 Axes>"
      ]
     },
     "metadata": {
      "needs_background": "light"
     },
     "output_type": "display_data"
    }
   ],
   "source": [
    "full_additional.plot.scatter(x='Percent_poverty',\n",
    "                             y='Cancer_Rate', c='HC_Access',cmap='cividis',alpha=.5, figsize=(10,6), s=40,\n",
    "                            title='Percentage in poverty vs Rates of new cancer cases with Access to HC per state colored')\n",
    "#fig2= full_additional.plot.scatter(ax=ax[1], x='Percent_poverty',\n",
    "#                             y='HC_Access', alpha=.5, title='Percentage of those in poverty vs Access to health care')"
   ]
  },
  {
   "cell_type": "markdown",
   "metadata": {},
   "source": [
    "On the X axis of the graph above, we have 'percentage  of people in poverty'. The hypothesis is that cancer rate is dependent on that percentage. This scatter plot shows that there is a clear positive correlation between the two variables. By adding in the access to health care variable to color the points, we can determine how the ranking for health care access plays into this correlation. As seen above, the least accessible states (yellow) seem to be concentrated more on the upper right corner of the graph corresponding to higher rates of cancer and higher poverty levels. The lower left side of the graph shows a greater concentation of dark dots (corresponding to the best accessibility), having slightly lower poverty and slightly lower cancer rates. This is a pretty rough approximation and conclusion from this graph, but it does show some semblance of correlation between the three factors. Very loosely, less access to health care systems in place relates to higher poverty percentages and greater cancer rates."
   ]
  },
  {
   "cell_type": "markdown",
   "metadata": {},
   "source": [
    "### Conclusions\n",
    "\n",
    "By looking on an individual level, I was able to identify possible risk factors and how they were associated to multiple tests for sample malignancies. Due to missing data, conclusions about these factors were difficult to make for certain. There seems to be little correlation within the risk dataset when looking at number of sexual partners and first incidence of sexual intercourse as they relate to spreading of STDs and HPV. However, women should be encouraged to see their doctor and get screened for cancer when they become sexually active, or around the age of 17. There were issues when determining the proportions of the malignancy samples from each test and their associated risk factors due to inconsistencies in the participant data.\n",
    "\n",
    "By visualizing some aspects of the state-wide data, we were already able to see that there may be an indirect effect of poverty on cervical cancer rates through access to health care. This is great news (in the context of this project) as it aligns with some of my initial questions and hypotheses. We may be able to make some conclusions internationally. After studying the health care system while in Peru, I saw an immediate lack of access due to transportation to the closest health clinic. By boat, it took over an hour to get from one of the communities to the closest health care technician (not a doctor). Getting results back from a screening test, communicating the results to your patient, scheduling a secondary follow up visit were all rare occurrances. After looking at the data on both an individual and nation-wide level, what can this mean for cervical cancer in Peruvian women living on the Amazon? "
   ]
  },
  {
   "cell_type": "markdown",
   "metadata": {},
   "source": [
    "#### Special thanks to Dr. Nick Mattei, Eli Mendels & Sri Korrapati"
   ]
  }
 ],
 "metadata": {
  "celltoolbar": "Attachments",
  "kernelspec": {
   "display_name": "Python 3",
   "language": "python",
   "name": "python3"
  },
  "language_info": {
   "codemirror_mode": {
    "name": "ipython",
    "version": 3
   },
   "file_extension": ".py",
   "mimetype": "text/x-python",
   "name": "python",
   "nbconvert_exporter": "python",
   "pygments_lexer": "ipython3",
   "version": "3.8.3"
  }
 },
 "nbformat": 4,
 "nbformat_minor": 4
}
